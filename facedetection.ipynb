{
 "cells": [
  {
   "cell_type": "code",
   "execution_count": null,
   "metadata": {},
   "outputs": [],
   "source": [
    "#facedetection\n",
    "\n",
    "import cv2\n",
    "\n",
    "def face_detect():\n",
    "    cam = cv2.VideoCapture(0) # to open web cam\n",
    "\n",
    "    face_clf = cv2.CascadeClassifier('haarcascade_frontalface_alt.xml')\n",
    "\n",
    "    while True:\n",
    "        ret, frame = cam.read()\n",
    "\n",
    "        if ret == False:\n",
    "            continue;\n",
    "\n",
    "        # gray_frame = cv2.cvtColor(frame, cv2.COLOR_BGR2GRAY)\n",
    "        faces = face_clf.detectMultiScale(frame, 1.3, 5) #image, scale, neighnours\n",
    "\n",
    "        for x,y,w,h in faces:\n",
    "        \tcv2.putText(frame, \"Person\", (x, y-10), cv2.FONT_HERSHEY_SIMPLEX, 1, (0, 0, 255), 1, cv2.LINE_AA)\n",
    "        \tcv2.rectangle(frame, (x, y), (x+w, y+h), (0, 255, 0), 2)\n",
    "\n",
    "        cv2.imshow(\"faces\", frame)\n",
    "        # cv2.imshow(\"gray_faces\", gray_frame)\n",
    "\n",
    "        key = cv2.waitKey(1) & 0xff\n",
    "\n",
    "        if key == ord('q'):\n",
    "        \tcam.release()\n",
    "        \tbreak\n",
    "\n",
    "if __name__ == '__main__':\n",
    "    face_detect()\n",
    "    cv2.destroyAllWindows()"
   ]
  }
 ],
 "metadata": {
  "kernelspec": {
   "display_name": "Python 3",
   "language": "python",
   "name": "python3"
  },
  "language_info": {
   "codemirror_mode": {
    "name": "ipython",
    "version": 3
   },
   "file_extension": ".py",
   "mimetype": "text/x-python",
   "name": "python",
   "nbconvert_exporter": "python",
   "pygments_lexer": "ipython3",
   "version": "3.7.3"
  }
 },
 "nbformat": 4,
 "nbformat_minor": 2
}
